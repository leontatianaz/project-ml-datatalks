{
 "cells": [
  {
   "cell_type": "markdown",
   "id": "a6414f0c",
   "metadata": {},
   "source": [
    "# This is going to be the project"
   ]
  },
  {
   "cell_type": "code",
   "execution_count": null,
   "id": "99eb3e81",
   "metadata": {
    "vscode": {
     "languageId": "plaintext"
    }
   },
   "outputs": [],
   "source": []
  }
 ],
 "metadata": {
  "language_info": {
   "name": "python"
  }
 },
 "nbformat": 4,
 "nbformat_minor": 5
}
