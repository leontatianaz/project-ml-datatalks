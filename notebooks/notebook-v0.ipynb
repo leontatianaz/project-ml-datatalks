{
 "cells": [
  {
   "cell_type": "markdown",
   "id": "a6414f0c",
   "metadata": {},
   "source": [
    "<h2 style=\"color:steelblue; font-weight:bold; text-align:center;\">\n",
    "Human emotion recognition through facial analysis\n",
    "</h2>\n",
    "\n",
    "<span style=\"color:cornflowerblue\">Author: Tatiana León</span>"
   ]
  },
  {
   "cell_type": "markdown",
   "id": "7f58d9a2",
   "metadata": {},
   "source": [
    "<h2 style=\"color:cornflowerblue; font-weight:bold;\">\n",
    "Objective\n",
    "</h2>\n",
    "\n",
    "  \n",
    "To develop a machine learning model capable of detecting and clasifying **micro-expressions**, brief and subtle facial movements that reveal hidden or suppressed emotions, using deep learning techiniques on facial image datasets.\n",
    "\n",
    "1. **Data processing and feature engineering**: Preprocess facial expression datasets, including face detection, landmark extraction, and image augmentation to enhace the model's ability to capture subtle emotional cues.  \n",
    "  \n",
    "2. **Model development and optimization**: Design, train and fine-rune convolutional and transformer-based neural network architectures to accurately classify micro-expressions across multiple emotional states.  \n",
    "  \n",
    "3. **Model evaluation and interpretability**: Evaluate model performance using metrics such as... and apply interpretability techniques, to visualize and explain how the model identifies emotional features.  "
   ]
  },
  {
   "cell_type": "markdown",
   "id": "73eac11e",
   "metadata": {},
   "source": [
    "<h4 style=\"color:gray; font-weight:bold;\">\n",
    "Instructions to download the dataset FER2013\n",
    "</h4>\n",
    "\n",
    "This project uses the **FER-2013** dataset available on [Kaggle](https://www.kaggle.com/datasets/msambare/fer2013).\n",
    "\n",
    "To download it, you’ll need a Kaggle account and an API token (`kaggle.json`).  \n",
    "Follow the setup steps in [`notebooks/README.md`](notebooks/README.md)"
   ]
  },
  {
   "cell_type": "markdown",
   "id": "21bb56d7",
   "metadata": {},
   "source": [
    "<h2 style=\"color:cornflowerblue; font-weight:bold;\">\n",
    "Data preparation\n",
    "</h2>"
   ]
  },
  {
   "cell_type": "markdown",
   "id": "a7bb7fdd",
   "metadata": {},
   "source": [
    "<h2 style=\"color:cornflowerblue; font-weight:bold;\">\n",
    "Exploratory analysis\n",
    "</h2>"
   ]
  },
  {
   "cell_type": "markdown",
   "id": "360fb5bb",
   "metadata": {},
   "source": [
    "<h2 style=\"color:cornflowerblue; font-weight:bold;\">\n",
    "Model selection\n",
    "</h2>"
   ]
  },
  {
   "cell_type": "markdown",
   "id": "ac60940a",
   "metadata": {},
   "source": [
    "<h2 style=\"color:cornflowerblue; font-weight:bold;\">\n",
    "Parameter tuning\n",
    "</h2>"
   ]
  }
 ],
 "metadata": {
  "kernelspec": {
   "display_name": "Python 3",
   "language": "python",
   "name": "python3"
  },
  "language_info": {
   "codemirror_mode": {
    "name": "ipython",
    "version": 3
   },
   "file_extension": ".py",
   "mimetype": "text/x-python",
   "name": "python",
   "nbconvert_exporter": "python",
   "pygments_lexer": "ipython3",
   "version": "3.12.1"
  }
 },
 "nbformat": 4,
 "nbformat_minor": 5
}
